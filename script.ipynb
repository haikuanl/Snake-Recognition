{
 "cells": [
  {
   "cell_type": "code",
   "execution_count": 1,
   "metadata": {},
   "outputs": [],
   "source": [
    "from tensorflow.python.keras.applications.vgg16 import VGG16\n",
    "from tensorflow.python.keras.applications.vgg19 import VGG19\n",
    "from tensorflow.python.keras.applications.resnet50 import ResNet50\n",
    "from tensorflow.python.keras.applications.mobilenet import MobileNet\n",
    "from tensorflow.python.keras.layers import Input, Flatten, Dense, Dropout\n",
    "from tensorflow.python.keras.layers.normalization import BatchNormalization\n",
    "from tensorflow.python.keras.models import Model\n",
    "from tensorflow.python.keras.optimizers import Adam\n",
    "import tensorflow as tf\n",
    "from tensorflow.python.keras.preprocessing import image\n",
    "import numpy as np\n",
    "from tensorflow.python.keras.applications.imagenet_utils import preprocess_input\n",
    "import os\n",
    "import random\n",
    "import tensorflow as tf\n",
    "from tensorflow.python.keras import models\n",
    "from tensorflow.python.keras import layers\n",
    "from tensorflow.python.keras import optimizers\n",
    "from tensorflow.python.keras.models import load_model"
   ]
  },
  {
   "cell_type": "code",
   "execution_count": 2,
   "metadata": {},
   "outputs": [],
   "source": [
    "num_classes = 17"
   ]
  },
  {
   "cell_type": "code",
   "execution_count": 3,
   "metadata": {},
   "outputs": [],
   "source": [
    "\n",
    "# import and compile model\n",
    "num_classes = 17\n",
    "# model = VGG16(include_top=True, weights=None, classes=2)\n",
    "# model = VGG16(include_top=False, weights='imagenet', input_shape=(224, 224, 3))\n",
    "model = ResNet50(include_top=False, weights='imagenet', input_shape=(224, 224, 3))\n",
    "# model = MobileNet(include_top=False, weights='imagenet', input_shape=(224, 224, 3))\n",
    "\n",
    "# last = model.output\n",
    "\n",
    "# x = Flatten()(last)\n",
    "# x = Dense(4096, activation='relu')(x)\n",
    "# x = Dense(4096, activation='relu')(x)\n",
    "# predictions = Dense(num_classes, activation = 'softmax')(x)\n",
    "# model = Model(inputs = model.input, outputs = predictions)\n",
    "\n",
    "model.compile(optimizer=Adam(), \n",
    "              loss='categorical_crossentropy',\n",
    "              metrics=['accuracy'])\n"
   ]
  },
  {
   "cell_type": "code",
   "execution_count": 4,
   "metadata": {},
   "outputs": [],
   "source": [
    "# reorder file\n",
    "def reorder():\n",
    "    path = 'data/'\n",
    "    category = os.listdir(path)\n",
    "    j = 0\n",
    "    for c in category:\n",
    "        images_of_each_category = os.listdir(path+c)\n",
    "        print(images_of_each_category)\n",
    "        for i in images_of_each_category:\n",
    "            try:\n",
    "                os.rename(path+c+'/'+i, path+c+'/'+'aa'+i)\n",
    "                os.rename(path+c+'/'+i, path+c+'/'+str(j)+'.jpg')\n",
    "            except:\n",
    "                os.rename(path+c+'/'+str(j)+'.jpg', path+c+'/'+str(j)+str(10000)+'.jpg')\n",
    "                os.rename(path+c+'/'+i, path+c+'/'+str(j)+'.jpg')\n",
    "                j = j + 1\n",
    "            j = j + 1"
   ]
  },
  {
   "cell_type": "code",
   "execution_count": 5,
   "metadata": {},
   "outputs": [],
   "source": [
    "\n",
    "path = 'data/'\n",
    "category_labels = {}\n",
    "labels_category = {}\n",
    "category = os.listdir(path)\n",
    "images = []\n",
    "not_one_hot_labels = []\n",
    "for i in range(0, len(category)):\n",
    "    category_labels[category[i]] = i\n",
    "for i in range(0, len(category)):\n",
    "    labels_category[i] = category[i]\n",
    "for c in category:\n",
    "    images_of_each_category = os.listdir(path+c)\n",
    "    for i in images_of_each_category:\n",
    "        img = image.load_img(path+c+'/'+i, target_size=(224, 224))\n",
    "        x = image.img_to_array(img)\n",
    "        x = preprocess_input(x)\n",
    "        images.append(x)\n",
    "        not_one_hot_labels.append(category_labels[c])\n",
    "# not_one_hot_labels_array = np.asarray(not_one_hot_labels)\n",
    "labels = np.zeros(shape=(len(not_one_hot_labels), num_classes))\n",
    "for i in range(0, len(not_one_hot_labels)):\n",
    "    labels[i][int(not_one_hot_labels[i])] = 1\n",
    "images = np.asarray(images)"
   ]
  },
  {
   "cell_type": "code",
   "execution_count": 6,
   "metadata": {},
   "outputs": [],
   "source": [
    "\n",
    "# separate training set and validation set\n",
    "index = np.arange(0, len(labels))\n",
    "random.shuffle(index)\n",
    "train_ind = index[0:int(len(index)/5*4)]\n",
    "# val_ind = np.delete(index, train_ind)\n",
    "val_ind = index[int(len(index)/5*4):len(index)]\n",
    "train_labels = labels[train_ind]\n",
    "val_labels = labels[val_ind]\n",
    "train_images = images[train_ind]\n",
    "val_images = images[val_ind]"
   ]
  },
  {
   "cell_type": "code",
   "execution_count": 7,
   "metadata": {},
   "outputs": [
    {
     "data": {
      "text/plain": [
       "137"
      ]
     },
     "execution_count": 7,
     "metadata": {},
     "output_type": "execute_result"
    }
   ],
   "source": [
    "len(val_ind)"
   ]
  },
  {
   "cell_type": "code",
   "execution_count": 8,
   "metadata": {},
   "outputs": [
    {
     "data": {
      "text/plain": [
       "(1, 1, 1, 2048)"
      ]
     },
     "execution_count": 8,
     "metadata": {},
     "output_type": "execute_result"
    }
   ],
   "source": [
    "model.predict(train_images[0:1]).shape"
   ]
  },
  {
   "cell_type": "code",
   "execution_count": 9,
   "metadata": {},
   "outputs": [],
   "source": [
    "# training\n",
    "# i = 0\n",
    "# for i in range(0, int(len(train_labels)/5)):\n",
    "#     model.fit(train_images[i*5:i*5+5], train_labels[i*5:i*5+5], epochs=5)\n",
    "\n",
    "# get features\n",
    "train_features = np.zeros(shape=(len(train_labels), 1, 1, 2048))   #ResNet\n",
    "# train_features = np.zeros(shape=(len(train_labels), 7, 7, 512))   #VGG\n",
    "# train_features = np.zeros(shape=(len(train_labels), 7, 7, 1024))     #MobileNet\n",
    "i = 0\n",
    "for i in range(0, int(len(train_labels)/5)):\n",
    "    train_features[i*5:i*5+5] = model.predict(train_images[i*5:i*5+5])\n",
    "# train_features = np.reshape(train_features, (len(train_labels), 7 * 7 * 512))"
   ]
  },
  {
   "cell_type": "code",
   "execution_count": 10,
   "metadata": {},
   "outputs": [
    {
     "name": "stdout",
     "output_type": "stream",
     "text": [
      "Epoch 1/50\n",
      "546/546 [==============================] - 4s 8ms/step - loss: 2.8989 - acc: 0.1209\n",
      "Epoch 2/50\n",
      "546/546 [==============================] - 0s 203us/step - loss: 2.5407 - acc: 0.2454\n",
      "Epoch 3/50\n",
      "546/546 [==============================] - 0s 112us/step - loss: 2.3265 - acc: 0.3425\n",
      "Epoch 4/50\n",
      "546/546 [==============================] - 0s 99us/step - loss: 2.1228 - acc: 0.4029\n",
      "Epoch 5/50\n",
      "546/546 [==============================] - 0s 124us/step - loss: 1.9216 - acc: 0.4927 0s - loss: 1.9235 - acc: 0.486\n",
      "Epoch 6/50\n",
      "546/546 [==============================] - 0s 159us/step - loss: 1.6860 - acc: 0.6026\n",
      "Epoch 7/50\n",
      "546/546 [==============================] - 0s 395us/step - loss: 1.4943 - acc: 0.6703\n",
      "Epoch 8/50\n",
      "546/546 [==============================] - 0s 227us/step - loss: 1.3334 - acc: 0.7070\n",
      "Epoch 9/50\n",
      "546/546 [==============================] - 0s 216us/step - loss: 1.1931 - acc: 0.7399\n",
      "Epoch 10/50\n",
      "546/546 [==============================] - 0s 168us/step - loss: 1.0758 - acc: 0.7766\n",
      "Epoch 11/50\n",
      "546/546 [==============================] - 0s 115us/step - loss: 0.9709 - acc: 0.7985\n",
      "Epoch 12/50\n",
      "546/546 [==============================] - 0s 141us/step - loss: 0.8740 - acc: 0.8187\n",
      "Epoch 13/50\n",
      "546/546 [==============================] - 0s 126us/step - loss: 0.7843 - acc: 0.8352\n",
      "Epoch 14/50\n",
      "546/546 [==============================] - 0s 112us/step - loss: 0.7037 - acc: 0.8535\n",
      "Epoch 15/50\n",
      "546/546 [==============================] - 0s 178us/step - loss: 0.6309 - acc: 0.8810\n",
      "Epoch 16/50\n",
      "546/546 [==============================] - 0s 137us/step - loss: 0.5633 - acc: 0.9066\n",
      "Epoch 17/50\n",
      "546/546 [==============================] - 0s 130us/step - loss: 0.5021 - acc: 0.9158\n",
      "Epoch 18/50\n",
      "546/546 [==============================] - 0s 135us/step - loss: 0.4486 - acc: 0.9322\n",
      "Epoch 19/50\n",
      "546/546 [==============================] - 0s 146us/step - loss: 0.3977 - acc: 0.9432\n",
      "Epoch 20/50\n",
      "546/546 [==============================] - 0s 141us/step - loss: 0.3589 - acc: 0.9505\n",
      "Epoch 21/50\n",
      "546/546 [==============================] - 0s 143us/step - loss: 0.3214 - acc: 0.9652\n",
      "Epoch 22/50\n",
      "546/546 [==============================] - 0s 141us/step - loss: 0.2863 - acc: 0.9707\n",
      "Epoch 23/50\n",
      "546/546 [==============================] - 0s 172us/step - loss: 0.2602 - acc: 0.9762\n",
      "Epoch 24/50\n",
      "546/546 [==============================] - ETA: 0s - loss: 0.2298 - acc: 0.982 - 0s 154us/step - loss: 0.2339 - acc: 0.9835\n",
      "Epoch 25/50\n",
      "546/546 [==============================] - 0s 163us/step - loss: 0.2118 - acc: 0.9853\n",
      "Epoch 26/50\n",
      "546/546 [==============================] - 0s 130us/step - loss: 0.1904 - acc: 0.9945\n",
      "Epoch 27/50\n",
      "546/546 [==============================] - 0s 137us/step - loss: 0.1701 - acc: 0.9927\n",
      "Epoch 28/50\n",
      "546/546 [==============================] - 0s 161us/step - loss: 0.1518 - acc: 0.9963\n",
      "Epoch 29/50\n",
      "546/546 [==============================] - 0s 190us/step - loss: 0.1379 - acc: 0.9945\n",
      "Epoch 30/50\n",
      "546/546 [==============================] - 0s 167us/step - loss: 0.1225 - acc: 0.9945\n",
      "Epoch 31/50\n",
      "546/546 [==============================] - 0s 170us/step - loss: 0.1106 - acc: 0.9945\n",
      "Epoch 32/50\n",
      "546/546 [==============================] - 0s 135us/step - loss: 0.0997 - acc: 0.9945\n",
      "Epoch 33/50\n",
      "546/546 [==============================] - 0s 115us/step - loss: 0.0893 - acc: 0.9982\n",
      "Epoch 34/50\n",
      "546/546 [==============================] - 0s 159us/step - loss: 0.0802 - acc: 0.9963\n",
      "Epoch 35/50\n",
      "546/546 [==============================] - 0s 130us/step - loss: 0.0734 - acc: 0.9982\n",
      "Epoch 36/50\n",
      "546/546 [==============================] - 0s 123us/step - loss: 0.0649 - acc: 1.0000\n",
      "Epoch 37/50\n",
      "546/546 [==============================] - 0s 121us/step - loss: 0.0603 - acc: 0.9963\n",
      "Epoch 38/50\n",
      "546/546 [==============================] - 0s 113us/step - loss: 0.0554 - acc: 0.9963\n",
      "Epoch 39/50\n",
      "546/546 [==============================] - 0s 101us/step - loss: 0.0504 - acc: 0.9982\n",
      "Epoch 40/50\n",
      "546/546 [==============================] - 0s 189us/step - loss: 0.0454 - acc: 0.9982\n",
      "Epoch 41/50\n",
      "546/546 [==============================] - 0s 139us/step - loss: 0.0417 - acc: 0.9963\n",
      "Epoch 42/50\n",
      "546/546 [==============================] - 0s 141us/step - loss: 0.0373 - acc: 0.9963\n",
      "Epoch 43/50\n",
      "546/546 [==============================] - 0s 123us/step - loss: 0.0361 - acc: 0.9963\n",
      "Epoch 44/50\n",
      "546/546 [==============================] - 0s 148us/step - loss: 0.0322 - acc: 0.9982\n",
      "Epoch 45/50\n",
      "546/546 [==============================] - 0s 137us/step - loss: 0.0304 - acc: 0.9963\n",
      "Epoch 46/50\n",
      "546/546 [==============================] - 0s 128us/step - loss: 0.0292 - acc: 0.9963\n",
      "Epoch 47/50\n",
      "546/546 [==============================] - 0s 152us/step - loss: 0.0264 - acc: 0.9982\n",
      "Epoch 48/50\n",
      "546/546 [==============================] - 0s 115us/step - loss: 0.0241 - acc: 0.9963\n",
      "Epoch 49/50\n",
      "546/546 [==============================] - 0s 101us/step - loss: 0.0228 - acc: 0.9982\n",
      "Epoch 50/50\n",
      "546/546 [==============================] - 0s 165us/step - loss: 0.0218 - acc: 0.9982\n"
     ]
    }
   ],
   "source": [
    "# feedforward NN model for classification\n",
    "\n",
    "\n",
    "ff_model = models.Sequential([\n",
    "    layers.Flatten(input_shape=(1, 1, 2048)),       #ResNet\n",
    "#     layers.Flatten(input_shape=(7, 7, 512)),    #VGG\n",
    "#     layers.Flatten(input_shape=(7, 7, 1024)),     #MobileNet\n",
    "    layers.Dense(30, activation=tf.nn.relu),\n",
    "#     layers.Dense(4096, activation=tf.nn.relu),\n",
    "    layers.Dense(num_classes, activation=tf.nn.softmax)\n",
    "])\n",
    "\n",
    "ff_model.compile(optimizer=optimizers.RMSprop(lr=2e-4),\n",
    "              loss='categorical_crossentropy',\n",
    "              metrics=['acc'])\n",
    "# train\n",
    "performance = ff_model.fit(train_features, train_labels, epochs = 50)\n"
   ]
  },
  {
   "cell_type": "code",
   "execution_count": 11,
   "metadata": {},
   "outputs": [
    {
     "data": {
      "text/plain": [
       "[2.8989353083865548,\n",
       " 2.5406525947235443,\n",
       " 2.3265133026318674,\n",
       " 2.1227577998961285,\n",
       " 1.9215749174683958,\n",
       " 1.6860443148420843,\n",
       " 1.494320042404063,\n",
       " 1.3333554355216113,\n",
       " 1.1931386443721506,\n",
       " 1.0758254934143234,\n",
       " 0.97092830152302,\n",
       " 0.8740429760335566,\n",
       " 0.7842953847004817,\n",
       " 0.703747903907692,\n",
       " 0.6308671058097601,\n",
       " 0.5632732005128057,\n",
       " 0.5021454051082388,\n",
       " 0.4485741871180552,\n",
       " 0.397736472087902,\n",
       " 0.3589261967293072,\n",
       " 0.32143850771935434,\n",
       " 0.2862513331703214,\n",
       " 0.2602348559068673,\n",
       " 0.23385395314339752,\n",
       " 0.211827678776486,\n",
       " 0.19037723617675978,\n",
       " 0.17014875268433993,\n",
       " 0.15181856558763937,\n",
       " 0.13792436838750438,\n",
       " 0.12248397061785499,\n",
       " 0.11059024526086046,\n",
       " 0.09968551069552645,\n",
       " 0.08933094847988296,\n",
       " 0.08023779011662407,\n",
       " 0.0733875857168065,\n",
       " 0.06486517229141334,\n",
       " 0.06031273276760028,\n",
       " 0.05539287440137658,\n",
       " 0.05038913463893937,\n",
       " 0.04535907965440016,\n",
       " 0.0416742559153955,\n",
       " 0.037345749172535574,\n",
       " 0.03609982561388295,\n",
       " 0.032193667350222624,\n",
       " 0.030445406888867474,\n",
       " 0.02918688802819549,\n",
       " 0.026386336269941957,\n",
       " 0.02413236869724242,\n",
       " 0.0228378596364251,\n",
       " 0.021788829227998144]"
      ]
     },
     "execution_count": 11,
     "metadata": {},
     "output_type": "execute_result"
    }
   ],
   "source": [
    "performance.history.get('loss')"
   ]
  },
  {
   "cell_type": "code",
   "execution_count": 12,
   "metadata": {},
   "outputs": [
    {
     "data": {
      "text/plain": [
       "Text(0, 0.5, 'Cross Entropy Loss')"
      ]
     },
     "execution_count": 12,
     "metadata": {},
     "output_type": "execute_result"
    }
   ],
   "source": [
    "import matplotlib.pyplot as plt\n",
    "fig = plt.figure()\n",
    "fig.suptitle('ResNet50', fontsize=12)\n",
    "plt.plot(performance.history.get('loss'), 'b')\n",
    "# plt.plot(performance.history.get('acc'), 'r')\n",
    "plt.xlabel('epochs')\n",
    "plt.ylabel('Cross Entropy Loss')"
   ]
  },
  {
   "cell_type": "code",
   "execution_count": 13,
   "metadata": {},
   "outputs": [],
   "source": [
    "# get predictions on validation set\n",
    "from tensorflow.python.keras.applications.imagenet_utils import decode_predictions\n",
    "import numpy as np\n",
    "pre = np.zeros(shape = (len(val_labels), num_classes))\n",
    "j = 0\n",
    "for j in range(0, int(len(val_labels)/5)):\n",
    "    pre[j*5:j*5+5] = ff_model.predict(model.predict(val_images[j*5:j*5+5]))\n",
    "# pre[j*5+5:len(pre)] = ff_model.predict(model.predict(val_images[j*5+5:len(pre)]))\n",
    "    \n",
    "# pre = ff_model.predict(model.predict(val_images))\n",
    "result = np.zeros(len(val_labels))\n",
    "gold_standard = np.zeros(len(val_labels))\n",
    "for i in range(0, j*5+5):\n",
    "    result[i] = np.argmax(pre[i])\n",
    "for i in range(0, j*5+5):\n",
    "    gold_standard[i] = np.argmax(val_labels[i])"
   ]
  },
  {
   "cell_type": "code",
   "execution_count": 14,
   "metadata": {},
   "outputs": [],
   "source": [
    "confidences = []\n",
    "confidence = {}\n",
    "for i in range(len(pre)):\n",
    "    top_3_idx = np.argsort(pre[i])[-3:]\n",
    "    top_3_values = [pre[i][j] for j in top_3_idx]\n",
    "    for j in range(0, 3):\n",
    "        confidence[labels_category[top_3_idx[j]]] = top_3_values[j]*100\n",
    "    confidences.append(confidence)\n",
    "    confidence = {}"
   ]
  },
  {
   "cell_type": "code",
   "execution_count": 15,
   "metadata": {},
   "outputs": [],
   "source": [
    "# test\n",
    "def test(path):\n",
    "    img = image.load_img(path, target_size=(224, 224))\n",
    "    test = []\n",
    "    x = image.img_to_array(img)\n",
    "    x = preprocess_input(x)\n",
    "    test.append(x)\n",
    "    test = np.asarray(test)\n",
    "    test.shape\n",
    "    return ff_model.predict(model.predict(test))*100"
   ]
  },
  {
   "cell_type": "code",
   "execution_count": 43,
   "metadata": {},
   "outputs": [
    {
     "name": "stdout",
     "output_type": "stream",
     "text": [
      "Snake Species            labels      One Hot Labels      \n",
      "CarpetPython         ==> 0       ==> [1. 0. 0. 0. 0. 0. 0. 0. 0. 0. 0. 0. 0. 0. 0. 0. 0.]\n",
      "CoastalTaipan        ==> 1       ==> [0. 1. 0. 0. 0. 0. 0. 0. 0. 0. 0. 0. 0. 0. 0. 0. 0.]\n",
      "Cobra                ==> 2       ==> [0. 0. 1. 0. 0. 0. 0. 0. 0. 0. 0. 0. 0. 0. 0. 0. 0.]\n",
      "CommonDeathAdder     ==> 3       ==> [0. 0. 0. 1. 0. 0. 0. 0. 0. 0. 0. 0. 0. 0. 0. 0. 0.]\n",
      "CommonEuropeanViper  ==> 4       ==> [0. 0. 0. 0. 1. 0. 0. 0. 0. 0. 0. 0. 0. 0. 0. 0. 0.]\n",
      "Copperhead           ==> 5       ==> [0. 0. 0. 0. 0. 1. 0. 0. 0. 0. 0. 0. 0. 0. 0. 0. 0.]\n",
      "GarterSnake          ==> 6       ==> [0. 0. 0. 0. 0. 0. 1. 0. 0. 0. 0. 0. 0. 0. 0. 0. 0.]\n",
      "InlandTaipan         ==> 7       ==> [0. 0. 0. 0. 0. 0. 0. 1. 0. 0. 0. 0. 0. 0. 0. 0. 0.]\n",
      "Keelback             ==> 8       ==> [0. 0. 0. 0. 0. 0. 0. 0. 1. 0. 0. 0. 0. 0. 0. 0. 0.]\n",
      "MilkSnake            ==> 9       ==> [0. 0. 0. 0. 0. 0. 0. 0. 0. 1. 0. 0. 0. 0. 0. 0. 0.]\n",
      "MulgaSnake           ==> 10      ==> [0. 0. 0. 0. 0. 0. 0. 0. 0. 0. 1. 0. 0. 0. 0. 0. 0.]\n",
      "RedBelliedBlack      ==> 11      ==> [0. 0. 0. 0. 0. 0. 0. 0. 0. 0. 0. 1. 0. 0. 0. 0. 0.]\n",
      "RoughScaledSnake     ==> 12      ==> [0. 0. 0. 0. 0. 0. 0. 0. 0. 0. 0. 0. 1. 0. 0. 0. 0.]\n",
      "SmallEyedSnake       ==> 13      ==> [0. 0. 0. 0. 0. 0. 0. 0. 0. 0. 0. 0. 0. 1. 0. 0. 0.]\n",
      "SpottedPython        ==> 14      ==> [0. 0. 0. 0. 0. 0. 0. 0. 0. 0. 0. 0. 0. 0. 1. 0. 0.]\n",
      "TigerSnake           ==> 15      ==> [0. 0. 0. 0. 0. 0. 0. 0. 0. 0. 0. 0. 0. 0. 0. 1. 0.]\n",
      "TreeSnake            ==> 16      ==> [0. 0. 0. 0. 0. 0. 0. 0. 0. 0. 0. 0. 0. 0. 0. 0. 1.]\n"
     ]
    }
   ],
   "source": [
    "labels = np.zeros(num_classes)\n",
    "z = 0\n",
    "s1 = 'Snake Species'\n",
    "s2 = 'labels'\n",
    "s3 = 'One Hot Labels'\n",
    "print(f'{s1:20}     {s2:7}     {s3:20}')\n",
    "for k in category_labels.keys():\n",
    "    labels[z] = 1\n",
    "#     print(k+'    '+str(category_labels[k])+'    '+str(labels))\n",
    "    print(f'{k:20} ==> {str(category_labels[k]):7} ==> {str(labels):20}')\n",
    "    z = z + 1\n",
    "    labels = np.zeros(num_classes)"
   ]
  },
  {
   "cell_type": "code",
   "execution_count": 17,
   "metadata": {},
   "outputs": [
    {
     "name": "stdout",
     "output_type": "stream",
     "text": [
      "86.86131386861314\n"
     ]
    }
   ],
   "source": [
    "# from sklearn import metrics\n",
    "# measure performance\n",
    "correct = 0\n",
    "incorrect_ind = []\n",
    "incorrect_value = []\n",
    "incorrect_gold_standard = []\n",
    "for i in range(0, len(result)):\n",
    "    if(result[i]==gold_standard[i]):\n",
    "        correct = correct + 1\n",
    "    else:\n",
    "        incorrect_ind.append(i)\n",
    "        incorrect_value.append(result[i])\n",
    "        incorrect_gold_standard.append(gold_standard[i])\n",
    "print(correct/len(result)*100)"
   ]
  },
  {
   "cell_type": "code",
   "execution_count": 18,
   "metadata": {},
   "outputs": [
    {
     "data": {
      "text/plain": [
       "array([7.84949443e-05, 6.58012833e-03, 5.72832005e-06, 1.50189549e-01,\n",
       "       1.00693860e-05, 8.31301451e-01, 2.17227687e-04, 2.01737657e-05,\n",
       "       5.68739721e-04, 4.99143905e-04, 1.84396747e-03, 6.56922384e-06,\n",
       "       7.30647892e-03, 2.98778148e-04, 2.87781324e-04, 3.26861307e-04,\n",
       "       4.58916213e-04])"
      ]
     },
     "execution_count": 18,
     "metadata": {},
     "output_type": "execute_result"
    }
   ],
   "source": [
    "pre[42]"
   ]
  },
  {
   "cell_type": "code",
   "execution_count": 19,
   "metadata": {},
   "outputs": [
    {
     "name": "stdout",
     "output_type": "stream",
     "text": [
      "Misclassified image index: 529\n",
      "Wrong label: RedBelliedBlack\n",
      "Label should be: SmallEyedSnake\n",
      "Confidence of each category: {'InlandTaipan': 0.3443943103775382, 'SmallEyedSnake': 3.5515986382961273, 'RedBelliedBlack': 95.77609896659851}\n",
      "\n",
      "Misclassified image index: 400\n",
      "Wrong label: CoastalTaipan\n",
      "Label should be: MulgaSnake\n",
      "Confidence of each category: {'SmallEyedSnake': 12.750604748725891, 'InlandTaipan': 15.611764788627625, 'CoastalTaipan': 61.490046977996826}\n",
      "\n",
      "Misclassified image index: 290\n",
      "Wrong label: CoastalTaipan\n",
      "Label should be: InlandTaipan\n",
      "Confidence of each category: {'InlandTaipan': 8.214017748832703, 'MulgaSnake': 11.029934883117676, 'CoastalTaipan': 74.98341798782349}\n",
      "\n",
      "Misclassified image index: 36\n",
      "Wrong label: SpottedPython\n",
      "Label should be: CarpetPython\n",
      "Confidence of each category: {'Keelback': 21.397066116333008, 'GarterSnake': 36.141449213027954, 'SpottedPython': 38.088685274124146}\n",
      "\n",
      "Misclassified image index: 343\n",
      "Wrong label: CoastalTaipan\n",
      "Label should be: Keelback\n",
      "Confidence of each category: {'InlandTaipan': 11.839935928583145, 'Keelback': 36.997076869010925, 'CoastalTaipan': 40.57045578956604}\n",
      "\n",
      "Misclassified image index: 151\n",
      "Wrong label: SpottedPython\n",
      "Label should be: CommonDeathAdder\n",
      "Confidence of each category: {'CommonEuropeanViper': 0.4262328613549471, 'CommonDeathAdder': 12.696294486522675, 'SpottedPython': 86.1680269241333}\n",
      "\n",
      "Misclassified image index: 141\n",
      "Wrong label: SmallEyedSnake\n",
      "Label should be: CommonDeathAdder\n",
      "Confidence of each category: {'TigerSnake': 1.4756014570593834, 'RedBelliedBlack': 12.84790188074112, 'SmallEyedSnake': 84.24382209777832}\n",
      "\n",
      "Misclassified image index: 63\n",
      "Wrong label: MulgaSnake\n",
      "Label should be: CoastalTaipan\n",
      "Confidence of each category: {'CoastalTaipan': 9.903916716575623, 'InlandTaipan': 36.65480017662048, 'MulgaSnake': 50.707435607910156}\n",
      "\n",
      "Misclassified image index: 387\n",
      "Wrong label: Copperhead\n",
      "Label should be: MilkSnake\n",
      "Confidence of each category: {'TigerSnake': 14.321956038475037, 'SpottedPython': 28.081443905830383, 'Copperhead': 35.99208891391754}\n",
      "\n",
      "Misclassified image index: 534\n",
      "Wrong label: CoastalTaipan\n",
      "Label should be: SmallEyedSnake\n",
      "Confidence of each category: {'MulgaSnake': 4.723827168345451, 'SmallEyedSnake': 18.887533247470856, 'CoastalTaipan': 70.49791216850281}\n",
      "\n",
      "Misclassified image index: 337\n",
      "Wrong label: RoughScaledSnake\n",
      "Label should be: Keelback\n",
      "Confidence of each category: {'TreeSnake': 2.7075063437223434, 'Keelback': 12.51797080039978, 'RoughScaledSnake': 83.8907778263092}\n",
      "\n",
      "Misclassified image index: 579\n",
      "Wrong label: RoughScaledSnake\n",
      "Label should be: SpottedPython\n",
      "Confidence of each category: {'Keelback': 8.267300575971603, 'InlandTaipan': 15.653450787067413, 'RoughScaledSnake': 63.14104199409485}\n",
      "\n",
      "Misclassified image index: 432\n",
      "Wrong label: CoastalTaipan\n",
      "Label should be: MulgaSnake\n",
      "Confidence of each category: {'SmallEyedSnake': 6.89886212348938, 'MilkSnake': 11.807918548583984, 'CoastalTaipan': 70.45772075653076}\n",
      "\n",
      "Misclassified image index: 221\n",
      "Wrong label: TigerSnake\n",
      "Label should be: Copperhead\n",
      "Confidence of each category: {'CommonDeathAdder': 3.615448996424675, 'Copperhead': 25.08608102798462, 'TigerSnake': 70.50544023513794}\n",
      "\n",
      "Misclassified image index: 45\n",
      "Wrong label: MulgaSnake\n",
      "Label should be: CoastalTaipan\n",
      "Confidence of each category: {'CoastalTaipan': 17.862066626548767, 'InlandTaipan': 32.02499747276306, 'MulgaSnake': 40.75186848640442}\n",
      "\n",
      "Misclassified image index: 199\n",
      "Wrong label: CommonDeathAdder\n",
      "Label should be: CommonEuropeanViper\n",
      "Confidence of each category: {'CommonEuropeanViper': 15.903723239898682, 'SpottedPython': 24.009132385253906, 'CommonDeathAdder': 50.33077001571655}\n",
      "\n",
      "Misclassified image index: 95\n",
      "Wrong label: InlandTaipan\n",
      "Label should be: Cobra\n",
      "Confidence of each category: {'Cobra': 12.256092578172684, 'MulgaSnake': 26.61619484424591, 'InlandTaipan': 40.143883228302}\n",
      "\n",
      "Misclassified image index: 515\n",
      "Wrong label: Keelback\n",
      "Label should be: RoughScaledSnake\n",
      "Confidence of each category: {'RoughScaledSnake': 20.416119694709778, 'CoastalTaipan': 32.95965790748596, 'Keelback': 43.251046538352966}\n",
      "\n"
     ]
    }
   ],
   "source": [
    "# misclassified images index\n",
    "# print(val_ind[incorrect_ind])\n",
    "mis_ind = val_ind[incorrect_ind]\n",
    "for i in range(0, len(incorrect_gold_standard)):\n",
    "    print('Misclassified image index: '+ str(mis_ind[i]))\n",
    "    print('Wrong label: '+labels_category[incorrect_value[i]])\n",
    "    print('Label should be: '+labels_category[incorrect_gold_standard[i]])\n",
    "    print('Confidence of each category: '+str(confidences[incorrect_ind[i]]))\n",
    "    print()"
   ]
  },
  {
   "cell_type": "code",
   "execution_count": 20,
   "metadata": {},
   "outputs": [
    {
     "data": {
      "text/plain": [
       "array([479, 541, 109, 231, 112,  72,  21, 529, 487, 611,  93, 173,  30,\n",
       "       400, 402, 290, 245, 345, 486, 201, 570, 569, 538, 120,  40, 536,\n",
       "         9,  84,  48, 258, 463, 169, 573, 475,  36, 188, 343, 281, 649,\n",
       "        79, 151, 360, 210, 613, 141, 103,  24, 468, 511, 207, 213, 227,\n",
       "       428,  99,  63, 259, 542, 178, 387, 595,  20, 583, 534,  37, 278,\n",
       "        92, 668, 203, 481, 363, 312, 337, 517, 254, 450, 459, 638, 389,\n",
       "       579, 328,  17,  23, 367, 257, 132, 168, 492, 434,  26, 189, 432,\n",
       "       248, 271,  25, 485, 530, 392, 407, 449, 153, 371, 221, 182, 443,\n",
       "       216, 639, 105,  45, 576, 438, 199, 124, 372,  95,  42, 515, 127,\n",
       "       219, 448,  64, 185, 163, 420, 317, 222, 123, 322, 366, 234, 589,\n",
       "       582, 477, 663, 253, 412, 503, 470])"
      ]
     },
     "execution_count": 20,
     "metadata": {},
     "output_type": "execute_result"
    }
   ],
   "source": [
    "val_ind"
   ]
  },
  {
   "cell_type": "code",
   "execution_count": 21,
   "metadata": {},
   "outputs": [
    {
     "data": {
      "text/plain": [
       "{'CarpetPython': 90.9090909090909,\n",
       " 'CoastalTaipan': 75.0,\n",
       " 'Cobra': 88.88888888888889,\n",
       " 'CommonDeathAdder': 75.0,\n",
       " 'CommonEuropeanViper': 90.0,\n",
       " 'Copperhead': 91.66666666666667,\n",
       " 'GarterSnake': 100.0,\n",
       " 'InlandTaipan': 75.0,\n",
       " 'Keelback': 60.0,\n",
       " 'MilkSnake': 88.88888888888889,\n",
       " 'MulgaSnake': 77.77777777777777,\n",
       " 'RedBelliedBlack': 100.0,\n",
       " 'RoughScaledSnake': 87.5,\n",
       " 'SmallEyedSnake': 71.42857142857143,\n",
       " 'SpottedPython': 88.88888888888889,\n",
       " 'TigerSnake': 100.0,\n",
       " 'TreeSnake': 100.0}"
      ]
     },
     "execution_count": 21,
     "metadata": {},
     "output_type": "execute_result"
    }
   ],
   "source": [
    "accuracy_each_species = {}\n",
    "tmp_val_labels = []\n",
    "for l in val_labels:\n",
    "    tmp_val_labels.append(l.tolist().index(1))\n",
    "for i in range(0, num_classes):\n",
    "    tmp_count_total = tmp_val_labels.count(i)\n",
    "    tmp_count_incorrect = incorrect_gold_standard.count(i)\n",
    "    accuracy_each_species[labels_category[i]] = 100 - tmp_count_incorrect/tmp_count_total*100\n",
    "accuracy_each_species"
   ]
  },
  {
   "cell_type": "code",
   "execution_count": 22,
   "metadata": {},
   "outputs": [
    {
     "data": {
      "text/plain": [
       "Text(0, 0.5, 'accuracy')"
      ]
     },
     "execution_count": 22,
     "metadata": {},
     "output_type": "execute_result"
    },
    {
     "data": {
      "image/png": "[encoded data removed]",
      "text/plain": [
       "<Figure size 1440x720 with 1 Axes>"
      ]
     },
     "metadata": {
      "needs_background": "light"
     },
     "output_type": "display_data"
    }
   ],
   "source": [
    "plt.figure(figsize=(20, 10))\n",
    "plt.xticks(rotation=90)\n",
    "plt.bar(accuracy_each_species.keys(), accuracy_each_species.values(), width=0.8)\n",
    "plt.xlabel('snake species')\n",
    "plt.ylabel('accuracy')\n",
    "# plt.savefig('D:\\mymajor\\COMP90055ComputingProject\\ReportMaterial\\\\result_accuracy_each_species.PNG')"
   ]
  },
  {
   "cell_type": "code",
   "execution_count": 23,
   "metadata": {},
   "outputs": [
    {
     "data": {
      "text/plain": [
       "{'InlandTaipan': 0.3443943103775382,\n",
       " 'SmallEyedSnake': 3.5515986382961273,\n",
       " 'RedBelliedBlack': 95.77609896659851}"
      ]
     },
     "execution_count": 23,
     "metadata": {},
     "output_type": "execute_result"
    }
   ],
   "source": [
    "confidences[incorrect_ind[0]]"
   ]
  },
  {
   "cell_type": "code",
   "execution_count": 24,
   "metadata": {},
   "outputs": [
    {
     "data": {
      "text/plain": [
       "array([11., 13.,  2.,  5.,  2.,  1.,  0., 11., 12., 15.,  2.,  4.,  0.,\n",
       "        1., 10.,  1.,  6.,  8., 12.,  5., 14., 14., 13.,  3.,  1., 13.,\n",
       "        0.,  2.,  1.,  6., 11.,  4., 14., 11., 14.,  4.,  1.,  7., 16.,\n",
       "        1., 14.,  9.,  5., 15., 13.,  2.,  0., 11., 12.,  5.,  5.,  5.,\n",
       "       10.,  2., 10.,  6., 13.,  4.,  5., 14.,  0., 14.,  1.,  0.,  6.,\n",
       "        2., 16.,  5., 11.,  9.,  7., 12., 12.,  6., 11., 11., 15.,  9.,\n",
       "       12.,  8.,  0.,  0.,  9.,  6.,  3.,  4., 12., 10.,  0.,  4.,  1.,\n",
       "        6.,  6.,  0., 12., 13.,  9., 10., 11.,  3.,  9., 15.,  4., 11.,\n",
       "        5., 15.,  2., 10., 14., 10.,  3.,  3.,  9.,  7.,  1.,  8.,  3.,\n",
       "        5., 11.,  1.,  4.,  4., 10.,  7.,  5.,  3.,  8.,  9.,  5., 14.,\n",
       "       14., 11., 16.,  6., 10.,  0.,  0.])"
      ]
     },
     "execution_count": 24,
     "metadata": {},
     "output_type": "execute_result"
    }
   ],
   "source": [
    "result"
   ]
  },
  {
   "cell_type": "code",
   "execution_count": 25,
   "metadata": {},
   "outputs": [
    {
     "data": {
      "text/plain": [
       "array([11., 13.,  2.,  5.,  2.,  1.,  0., 13., 12., 15.,  2.,  4.,  0.,\n",
       "       10., 10.,  7.,  6.,  8., 12.,  5., 14., 14., 13.,  3.,  1., 13.,\n",
       "        0.,  2.,  1.,  6., 11.,  4., 14., 11.,  0.,  4.,  8.,  7., 16.,\n",
       "        1.,  3.,  9.,  5., 15.,  3.,  2.,  0., 11., 12.,  5.,  5.,  5.,\n",
       "       10.,  2.,  1.,  6., 13.,  4.,  9., 14.,  0., 14., 13.,  0.,  6.,\n",
       "        2., 16.,  5., 11.,  9.,  7.,  8., 12.,  6., 11., 11., 15.,  9.,\n",
       "       14.,  8.,  0.,  0.,  9.,  6.,  3.,  4., 12., 10.,  0.,  4., 10.,\n",
       "        6.,  6.,  0., 12., 13.,  9., 10., 11.,  3.,  9.,  5.,  4., 11.,\n",
       "        5., 15.,  2.,  1., 14., 10.,  4.,  3.,  9.,  2.,  1., 12.,  3.,\n",
       "        5., 11.,  1.,  4.,  4., 10.,  7.,  5.,  3.,  8.,  9.,  5., 14.,\n",
       "       14., 11., 16.,  6., 10.,  0.,  0.])"
      ]
     },
     "execution_count": 25,
     "metadata": {},
     "output_type": "execute_result"
    }
   ],
   "source": [
    "gold_standard"
   ]
  },
  {
   "cell_type": "code",
   "execution_count": 26,
   "metadata": {},
   "outputs": [],
   "source": [
    "# model.save('TrainedModel/MyCNN_VGG_Model17.h5')\n",
    "# ff_model.save('TrainedModel/MyFF_VGG_Model17.h5')"
   ]
  },
  {
   "cell_type": "code",
   "execution_count": 27,
   "metadata": {},
   "outputs": [],
   "source": [
    "# load pre-trained model\n",
    "# model = load_model('TrainedModel/MyCNN_RESNET50_Model17.h5')\n",
    "# ff_model = load_model('TrainedModel/MyFF_RESNET50_Model17.h5')\n"
   ]
  },
  {
   "cell_type": "code",
   "execution_count": 28,
   "metadata": {},
   "outputs": [
    {
     "name": "stdout",
     "output_type": "stream",
     "text": [
      "[4.13312256e-01 4.77027133e-05 1.77338975e-03 4.84083872e-03\n",
      " 2.91062449e-03 7.70884275e-04 8.78652632e-02 5.06051947e-05\n",
      " 1.27957594e-02 1.10445704e-04 2.11789666e-06 3.06417322e-04\n",
      " 1.63461140e-03 1.48157065e-04 9.94727097e+01 7.00545264e-04\n",
      " 2.31750200e-05]\n"
     ]
    }
   ],
   "source": [
    "# test\n",
    "label = test('1.jpg')\n",
    "print(label[0])"
   ]
  },
  {
   "cell_type": "code",
   "execution_count": 29,
   "metadata": {},
   "outputs": [
    {
     "data": {
      "text/plain": [
       "{'CarpetPython': 0,\n",
       " 'CoastalTaipan': 1,\n",
       " 'Cobra': 2,\n",
       " 'CommonDeathAdder': 3,\n",
       " 'CommonEuropeanViper': 4,\n",
       " 'Copperhead': 5,\n",
       " 'GarterSnake': 6,\n",
       " 'InlandTaipan': 7,\n",
       " 'Keelback': 8,\n",
       " 'MilkSnake': 9,\n",
       " 'MulgaSnake': 10,\n",
       " 'RedBelliedBlack': 11,\n",
       " 'RoughScaledSnake': 12,\n",
       " 'SmallEyedSnake': 13,\n",
       " 'SpottedPython': 14,\n",
       " 'TigerSnake': 15,\n",
       " 'TreeSnake': 16}"
      ]
     },
     "execution_count": 29,
     "metadata": {},
     "output_type": "execute_result"
    }
   ],
   "source": [
    "category_labels"
   ]
  },
  {
   "cell_type": "code",
   "execution_count": 30,
   "metadata": {},
   "outputs": [],
   "source": [
    "class SnakeImage:\n",
    "    def __init__(self, path):\n",
    "        stat = test(path)\n",
    "        self.most_likely_species = labels_category[np.argmax(stat)]\n",
    "        \n",
    "        self.confidence = {}\n",
    "        top_3_idx = np.argsort(stat[0])[-3:]\n",
    "        top_3_values = [stat[0][j] for j in top_3_idx]\n",
    "        for j in range(0, 3):\n",
    "            self.confidence[labels_category[top_3_idx[j]]] = top_3_values[j]*100\n",
    "            \n",
    "        with open('Descriptions/'+self.most_likely_species+'.txt') as f:\n",
    "            self.habitat = f.readline()\n",
    "            self.scale = f.readline()\n",
    "            self.is_venemous = f.readline()\n",
    "        \n",
    "# obj = SnakeImage('1.jpg')"
   ]
  }
 ],
 "metadata": {
  "kernelspec": {
   "display_name": "Python 3",
   "language": "python",
   "name": "python3"
  },
  "language_info": {
   "codemirror_mode": {
    "name": "ipython",
    "version": 3
   },
   "file_extension": ".py",
   "mimetype": "text/x-python",
   "name": "python",
   "nbconvert_exporter": "python",
   "pygments_lexer": "ipython3",
   "version": "3.6.7"
  }
 },
 "nbformat": 4,
 "nbformat_minor": 2
}
