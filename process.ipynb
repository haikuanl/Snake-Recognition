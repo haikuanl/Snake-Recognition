{
 "cells": [
  {
   "cell_type": "code",
   "execution_count": 1,
   "metadata": {},
   "outputs": [],
   "source": [
    "from tensorflow.python.keras.applications.vgg16 import VGG16\n",
    "from tensorflow.python.keras.applications.vgg19 import VGG19\n",
    "from tensorflow.python.keras.applications.resnet50 import ResNet50\n",
    "from tensorflow.python.keras.applications.mobilenet import MobileNet\n",
    "from tensorflow.python.keras.layers import Input, Flatten, Dense, Dropout\n",
    "from tensorflow.python.keras.layers.normalization import BatchNormalization\n",
    "from tensorflow.python.keras.models import Model\n",
    "from tensorflow.python.keras.optimizers import Adam\n",
    "import tensorflow as tf\n",
    "from tensorflow.python.keras.preprocessing import image\n",
    "import numpy as np\n",
    "from tensorflow.python.keras.applications.imagenet_utils import preprocess_input\n",
    "import os\n",
    "import random\n",
    "import tensorflow as tf\n",
    "from tensorflow.python.keras import models\n",
    "from tensorflow.python.keras import layers\n",
    "from tensorflow.python.keras import optimizers\n",
    "from tensorflow.python.keras.models import load_model"
   ]
  },
  {
   "cell_type": "code",
   "execution_count": 7,
   "metadata": {},
   "outputs": [],
   "source": [
    "# load pre-trained model\n",
    "model = load_model('TrainedModel/MyCNN_RESNET50_Model17.h5')\n",
    "ff_model = load_model('TrainedModel/MyFF_RESNET50_Model17.h5')\n",
    "path = 'data/'\n",
    "category_labels = {}\n",
    "labels_category = {}\n",
    "category = os.listdir(path)\n",
    "images = []\n",
    "not_one_hot_labels = []\n",
    "for i in range(0, len(category)):\n",
    "    category_labels[category[i]] = i\n",
    "for i in range(0, len(category)):\n",
    "    labels_category[i] = category[i]"
   ]
  },
  {
   "cell_type": "code",
   "execution_count": 8,
   "metadata": {},
   "outputs": [],
   "source": [
    "def test(path):\n",
    "    img = image.load_img(path, target_size=(224, 224))\n",
    "    test = []\n",
    "    x = image.img_to_array(img)\n",
    "    x = preprocess_input(x)\n",
    "    test.append(x)\n",
    "    test = np.asarray(test)\n",
    "    test.shape\n",
    "    return ff_model.predict(model.predict(test))*100"
   ]
  },
  {
   "cell_type": "code",
   "execution_count": 21,
   "metadata": {},
   "outputs": [],
   "source": [
    "class SnakeImage:\n",
    "    def __init__(self, path):\n",
    "        stat = test(path)\n",
    "        self.most_likely_species = labels_category[np.argmax(stat)]\n",
    "        \n",
    "        self.confidence = {}\n",
    "        top_3_idx = np.argsort(stat[0])[-3:]\n",
    "        top_3_values = [stat[0][j] for j in top_3_idx]\n",
    "        for j in range(0, 3):\n",
    "            self.confidence[labels_category[top_3_idx[j]]] = top_3_values[j]\n",
    "            \n",
    "        with open('Descriptions/'+self.most_likely_species+'.txt') as f:\n",
    "            self.habitat = f.readline()\n",
    "            self.scale = f.readline()\n",
    "            self.is_venemous = f.readline()\n",
    "        \n",
    "obj = SnakeImage('ImageForTest.jpg')"
   ]
  },
  {
   "cell_type": "code",
   "execution_count": 22,
   "metadata": {
    "scrolled": true
   },
   "outputs": [
    {
     "name": "stdout",
     "output_type": "stream",
     "text": [
      "CommonDeathAdder\n",
      "{'CommonEuropeanViper': 0.0037882891, 'RoughScaledSnake': 0.055838913, 'CommonDeathAdder': 99.939766}\n",
      "Habitats: The common death adder (Acanthophis antarcticus) is a species of death adder native to Australia.\n",
      "\n",
      "Scale: The common death adder has a broad flattened, triangular head and a thick body with bands of red, brown and black with a grey, cream or pink belly. It can reach a maximum body length of 70–100 centimetres (2.3–3.3 ft).\n",
      "\n",
      "Status: Venemous\n"
     ]
    }
   ],
   "source": [
    "print(obj.most_likely_species)\n",
    "print(obj.confidence)\n",
    "print(obj.habitat)\n",
    "print(obj.scale)\n",
    "print(obj.is_venemous)"
   ]
  },
  {
   "cell_type": "code",
   "execution_count": null,
   "metadata": {},
   "outputs": [],
   "source": []
  }
 ],
 "metadata": {
  "kernelspec": {
   "display_name": "Python 3",
   "language": "python",
   "name": "python3"
  },
  "language_info": {
   "codemirror_mode": {
    "name": "ipython",
    "version": 3
   },
   "file_extension": ".py",
   "mimetype": "text/x-python",
   "name": "python",
   "nbconvert_exporter": "python",
   "pygments_lexer": "ipython3",
   "version": "3.6.7"
  }
 },
 "nbformat": 4,
 "nbformat_minor": 2
}
